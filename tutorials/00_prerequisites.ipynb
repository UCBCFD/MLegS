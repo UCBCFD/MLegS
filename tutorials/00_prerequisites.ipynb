{
 "cells": [
  {
   "cell_type": "markdown",
   "id": "1636fcf2-1748-47f9-a035-c422241df196",
   "metadata": {},
   "source": [
    "# MLegS Tutorial 00. Prerequisites\n",
    "\n",
    "In this tutorial, you’ll learn how to prepare your environment to work with the MLegS package. By completing these prerequisites, you will be ready to compile and run main programs that use MLegS. The following steps will be covered:\n",
    "1. Configure a compiler and MPI (Message Passing Interface)\n",
    "  - Ensure you have a compatible compiler installed (e.g., GNU or Intel)\n",
    "  - Set up MPI (Message Passing Interface) on your machine, essential for parallel execution.\n",
    "2. Set up external libraries required to run MLegS\n",
    "  - MLegS relies on certain external libraries for matrix operations, fast Fourier transforms and multi-precision arithmetic.\n",
    "  - Install necessary libraries such as LAPACK, FFTE and FM. You do not need to download them; these external libraries, with the compatibility checked for MLegS, are provided in the `[root_dir]/external/` directory.\n",
    "3. Compile MLegS modules.\n",
    "  - With your compiler, MPI, and external libraries set up, proceed to compile the core MLegS modules.\n",
    "  - Use the provided `Makefile` instructions to compile the modules via one-line commands (e.g., `make mods`)\n",
    "\n",
    "Completing this setup ensures that you’re fully prepared to work with programs that use the MLegS package."
   ]
  },
  {
   "cell_type": "markdown",
   "id": "8c6b9118-7ef2-45d3-b158-27b416fbc13e",
   "metadata": {},
   "source": [
    "## Configure a Compiler and MPI Interfaces\n",
    "\n",
    "To ensure compatibility with MLegS, use one of the compiler and MPI setups. The following combinations are recommended for compiling and running MLegS:\n",
    "1. GNU Fortran compiler `gfortran` <v11.2 or later> with OpenMPI <v4.1 or later>\n",
    "2. Intel OneAPI Fortran compiler `ifx` <v2024.1.0 or later> with accompanying Intel MPI\n",
    "\n",
    "While Intel's legacy Fortran compiler, `ifort`, may be used as an alternative, please note that full compatibility has not been tested or guaranteed.\n",
    "\n",
    "You can install `gfortran` and OpenMPI via your system's package manager (`apt` for Ubuntu/Debian, `yum` for CentOS), as these packages are generally available in official repositories. \n",
    "\n",
    "For Intel compilers, download and install the toolkit from [Intel's official download page](https://www.intel.com/content/www/us/en/developer/tools/oneapi/fortran-compiler.html#gs.hbhvru), selecting the distribution that matches your system. After installation, you need to source the Intel environment script (e.g., `source /opt/intel/oneapi/setvars.sh` to set environment variables.\n",
    "\n",
    "Aftr installation, verify the versions with:"
   ]
  },
  {
   "cell_type": "code",
   "execution_count": null,
   "id": "d80fd5a0-8ae4-4c52-a28c-dc1219e25ef9",
   "metadata": {},
   "outputs": [],
   "source": [
    "# for gfortran + OpenMPI\n",
    "gfortran --version\n",
    "mpirun.openmpi --version\n",
    "# # for ifx + IntelMPI\n",
    "# ifx --version\n",
    "# mpirun --version"
   ]
  },
  {
   "cell_type": "markdown",
   "id": "b072b190-0d4d-4267-9052-4b9439968964",
   "metadata": {},
   "source": [
    "## Set up external libraries required to run MLegS\n",
    "\n",
    "MLegS depends on several external open-source libraries that provide essential routines for computations. The following packages are required:\n",
    "1. Multiple Precision Computation -- FM (v1.4) ([Source](https://dmsmith.lmu.build/))\n",
    "2. Fast Fourier Transform Package -- FFTE (v7.0) ([Source](http://www.ffte.jp/))\n",
    "3. Linear Algebra PACKage -- LAPACK (v3.12.0) ([Source](https://www.netlib.org/lapack/))\n",
    "\n",
    "All required libraries are included in the `[root_dir]/external/` directory of the MLegS package, so manual downloading is not needed. MLegS provides a bash script to compile these libraries in one step, simplifying the setup process. Before running the compilation script, ensure the following prerequisites are met:\n",
    "  - `CMake` <v3.10 or later> is installed on your system. You can check if `CMake` is installed and verify the version with:"
   ]
  },
  {
   "cell_type": "code",
   "execution_count": null,
   "id": "0add8989-e97c-4748-b8a2-e9e67861eec8",
   "metadata": {},
   "outputs": [],
   "source": [
    "cmake --version"
   ]
  },
  {
   "cell_type": "markdown",
   "id": "62d54ce8-930a-4c76-a88d-44aba94cb0d0",
   "metadata": {},
   "source": [
    "- If it is not installed or outdated, use your package manager or visit `CMake`'s [official website](https://cmake.org/) to install or update it.\n",
    "\n",
    "Once CMake is installed, navigate to the `[root_dir]/external/` directory and check if the provided compliation script (`CMake_build.sh`) is executable."
   ]
  },
  {
   "cell_type": "code",
   "execution_count": null,
   "id": "ded3eb12-6a05-48cc-b119-ae689ff98169",
   "metadata": {},
   "outputs": [],
   "source": [
    "cd ../external/ # Navigate to the external directory, assuming this notebook is opened in the default directory ([root_dir]/tutorials/)."
   ]
  },
  {
   "cell_type": "code",
   "execution_count": null,
   "id": "a30174f8-3d56-4c61-8a41-c206d65c8976",
   "metadata": {},
   "outputs": [],
   "source": [
    "chmod +x ./CMake_build.sh # Add the executable option\n",
    "# Now let's check that CMake_build.sh is actually executable. If you get something like '-rwxrwxr-x' of 3 x's, then it's executable.\n",
    "ls -all | grep CMake_build.sh "
   ]
  },
  {
   "cell_type": "markdown",
   "id": "6e0009b0-70c6-40dc-b499-6369ba2d4b13",
   "metadata": {},
   "source": [
    "By default, the script uses `gfortran` (with its compatible C compiler) for compilation, but you can easily change the compiler by modifying the compiler specification within the script."
   ]
  },
  {
   "cell_type": "code",
   "execution_count": null,
   "id": "daac1530-4d3b-48cb-b7fa-6e6c1fae9f1e",
   "metadata": {},
   "outputs": [],
   "source": [
    "# in [root_dir]/external/CMake_build.sh, using any preferred text editor, update the following lines if one wants to use Intel\n",
    "# ...\n",
    "# FC = \"gfortran\" (-> replace it with \"ifx\", Intel's oneAPI Fortran compiler)\n",
    "# CC = \"gcc\" (-> replace it with \"icx\", Intel's oneAPI C compiler\n",
    "# ...\n",
    "# or simply run this bash command:\n",
    "#   sed -i 's/\"gfortran\"/\"ifx\"/g' ./CMake_build.sh\n",
    "#   sed -i 's/\"gcc\"/\"icx\"/g' ./CMake_build.sh\n",
    "# Now let's check what compilers are in use:\n",
    "head -n 20 ./CMake_build.sh | tail -4"
   ]
  },
  {
   "cell_type": "markdown",
   "id": "9d83fa98-e60b-43c2-98d2-d1960e243a40",
   "metadata": {},
   "source": [
    "You are now ready to run the automated external library compilation script. Execute the following command:"
   ]
  },
  {
   "cell_type": "code",
   "execution_count": null,
   "id": "97db45ee-06c7-4c33-9444-d25a6a30c9f4",
   "metadata": {},
   "outputs": [],
   "source": [
    "# Since this script run yields very lengthy outputs, we suppress them here. \n",
    "# Generally this automated compilation task takes up to 5-10 minutes. Take a cup of coffee... :)\n",
    "./CMake_build.sh > /dev/null 2>&1"
   ]
  },
  {
   "cell_type": "markdown",
   "id": "ef5e58cf-3a7e-4e3e-991f-0f39df89426d",
   "metadata": {},
   "source": [
    "If all external libraries are compiled successfully, you will see two new directories created in `[root_dir]/external/`: `./inc/` and `./lib/`. In `./lib/`, you should find the following **four** static library files: `libblas.a` and `liblapack.a` from LAPACK, `libfm.a` from FM, and `libffte.a` from FFTE. In `./inc/`, you should see several FM-related module files with a `.mod` extension (e.g., `fmvals.mod`, `fmzm.mod`, etc.)."
   ]
  },
  {
   "cell_type": "code",
   "execution_count": null,
   "id": "0427bc2f-122e-4800-9656-d76e627a4f16",
   "metadata": {},
   "outputs": [],
   "source": [
    "# See if the library files are all generated and stored in the lib directory.\n",
    "ls ./lib/ ./inc/"
   ]
  },
  {
   "cell_type": "markdown",
   "id": "a98ee5f7-5248-4c85-8957-a88757bc0286",
   "metadata": {},
   "source": [
    "## Compile MLegS Modules\n",
    "\n",
    "Now that the Fortran compiler, MPI, and the external libraries are set up, it is possible to proceed to compile the core MLegS modules. By default, the whole compilation process of MLegS is assumed to be done in its root directory. In the root directory, `Makefile` provides the instructions to compile the modules via a single line command, `make mods`.\n",
    "\n",
    "Before doing so, move to the root directory and ensure that the `Makefile` instructions runs over the same Fortran compiler as what you have utilized for the external library compilation. By default, the instructions use `gfortran`."
   ]
  },
  {
   "cell_type": "code",
   "execution_count": null,
   "id": "470b1536-6cd4-4180-9135-a08f75aed4b1",
   "metadata": {},
   "outputs": [],
   "source": [
    "cd ../ # Navigate to the root directory, assuming that you were at [root_dir]/external/."
   ]
  },
  {
   "cell_type": "code",
   "execution_count": null,
   "id": "e880cf47-3f5c-4c00-908a-fa6d893f4153",
   "metadata": {},
   "outputs": [],
   "source": [
    "# in [root_dir]/Makefile, using any preferred text editor, update the following lines if one wants to use Intel\n",
    "# ...\n",
    "# OMPI_FC = \"gfortran\" (-> replace it with \"ifx\", Intel's oneAPI Fortran compiler)\n",
    "# ...\n",
    "# or simply run this bash command:\n",
    "#   sed -i 's/OMPI_FC = gfortran/OMPI_FC = ifx/g' ./Makefile\n",
    "# Now let's check what compiler is in use:\n",
    "head -n 4 ./Makefile | tail -4"
   ]
  },
  {
   "cell_type": "markdown",
   "id": "5e20f6df-ec14-4bb3-a3cb-ad6d4fbf4bf8",
   "metadata": {},
   "source": [
    "MLegS, in its most recent version, includes a stack of seven modules designed for MPI-parallelized simulations within a radially unbounded computational domain. These module files are stored in `[root_dir]/src/modules/`, where you can find the header information for all functions and subroutines. The actual numerical calculations and I/O operations are implemented in submodule files located in `[root_dir]/src/submodules/`. While we won’t go into detail about each module's functionality in this tutorial, here’s a brief overview of what each module contains:\n",
    "- mlegs_envir.f90: Defines environmental variables (e.g., default precision for integers, complex numbers, and real numbers, as well as simulation time information) and MPI parameters, along with basic auxiliary functions.\n",
    "- mlegs_base.f90: Sets up global simulation parameters, including spectral element counts in each direction, time-stepping details, viscosity, and field data I/O.\n",
    "- mlegs_misc.f90: Provides miscellaneous utilities, such as timers and generic Fortran array I/O functions.\n",
    "- mlegs_genmat.f90: Contains routines for general matrix operations.\n",
    "- mlegs_bndmat.f90: Includes operations for banded matrices (e.g., diagonal, tridiagonal).\n",
    "- mlegs_spectfm.f90: Contains tools for spectral transformations and related spectral operations.\n",
    "- mlegs_scalar.f90: Defines a distributed scalar class with spatially discretized operations and temporal advancement schemes.\n",
    "\n",
    "Inter-module dependencies are specified in `Makefile.dep`, which the `Makefile` instructions use to determine the correct compilation order automatically This setup allows you to compile without worrying about module dependencies. Simply execute the following command: "
   ]
  },
  {
   "cell_type": "code",
   "execution_count": null,
   "id": "b33202f6-2a12-4e68-ae0a-7197027bcd2a",
   "metadata": {},
   "outputs": [],
   "source": [
    "# 'clean' subcommand precedes in case there are old compiled files; this is not required and running only 'make mods' is generally sufficient.\n",
    "make clean && make mods"
   ]
  },
  {
   "cell_type": "markdown",
   "id": "e808c469-3033-48f0-9d12-4ce944a40b81",
   "metadata": {},
   "source": [
    "If all modules compiled successfully, a new directory `[root_dir]/build/` will be generated. Inside it, you should find two subdirectories: `./mod/` for module files with `.mod` and `.smod` extensions, and `./obj/` with a `.o` extension."
   ]
  },
  {
   "cell_type": "code",
   "execution_count": null,
   "id": "15a548b4-d061-415a-9f84-b02fdec70503",
   "metadata": {},
   "outputs": [],
   "source": [
    "# See if the library files are all generated and stored in the build directory.\n",
    "ls ./build/mod/ ./build/obj/"
   ]
  },
  {
   "cell_type": "markdown",
   "id": "4264ac2f-c17e-4e69-910a-99dad57c51e1",
   "metadata": {},
   "source": [
    "With this, all preliminary tasks required to use MLegS are complete!"
   ]
  }
 ],
 "metadata": {
  "kernelspec": {
   "display_name": "Bash",
   "language": "bash",
   "name": "bash"
  },
  "language_info": {
   "codemirror_mode": "shell",
   "file_extension": ".sh",
   "mimetype": "text/x-sh",
   "name": "bash"
  }
 },
 "nbformat": 4,
 "nbformat_minor": 5
}
