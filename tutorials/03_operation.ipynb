{
 "cells": [
  {
   "cell_type": "markdown",
   "id": "97afe79b-936f-4b61-ba9e-7106496b9111",
   "metadata": {},
   "source": [
    "# MLegS Tutorial 03: Spectral Operation\n",
    "*Disclaimer: This MLegS tutorial assumes a Linux or other Unix-based environment that supports bash terminal commands. If you are using Windows, consider installing the [Windows Subsystem for Linux (WSL)](https://learn.microsoft.com/en-us/windows/wsl/install).*\n",
    "\n",
    "In this tutorial, you will apply a differentiation operation to a scalar field in spectral space. Spectral space operations that convert one set of spectral coefficients to another generally provide more accurate results than physical space operations, such as finite differences or other collocation point-based methods. Many differentiation operations can be performed directly within the spectral space, especially for linear operations like the Laplacian \\\\( \\nabla^2 \\equiv \\frac{1}{r} \\frac{\\partial}{\\partial r} \\left( r \\frac{\\partial}{\\partial r} \\right) + \\frac{1}{r^2} \\frac{\\partial^2}{\\partial \\phi^2} + \\frac{\\partial^2}{\\partial z^2} \\\\).\n",
    "\n",
    "MLegS, in its most recent version, provides essential spectral operations commonly used in physical simulations, like the Laplacian \\\\( \\nabla^2 \\\\), the radial derivative operator \\\\( r \\frac{\\partial}{\\partial r} \\\\), and the Helmholtz operator \\\\( \\nabla^2 + \\alpha I \\\\), along with their inverse operations when inversion is feasible. This tutorial explains how these spectral space operations are implemented, using the Laplacian \\\\( \\nabla^2 \\\\) and its inverse as examples, so that you can learn the following:\n",
    "\n",
    "1. **Obtain Laplacian of a Scalar**\n",
    "   - Given a scalar field \\\\(s \\\\), its Laplacian, \\\\( \\nabla^2 s \\\\), is obtainable via the MLegS built-in subroutine `del2()`.\n",
    "   - The operation does not require the scalar's physical form and is directly converted in the spectral space.\n",
    "2. **Get Acquainted with Other Built-In MLegS Spectral Differentiation Operators**\n",
    "   - MLegS also provides the 2-dimensional Laplacian operator \\\\( \\nabla_\\perp^2 \\equiv \\frac{1}{r} \\frac{\\partial}{\\partial r} \\left( r \\frac{\\partial}{\\partial r} \\right) \\\\), the Helmholtz operator \\\\( \\nabla^2 + \\alpha I \\\\), and the powered Helmholtz operator \\\\( \\nabla^{h} + \\beta \\nabla^2 + \\alpha I \\\\) for \\\\( h = 4, 6, 8 \\\\).\n",
    "   - Their mathematical definitions and typical usage for simulations are presented.\n",
    "\n",
    "Completing this tutorial will help you apply spectral differentiation operators in MLegS with confidence."
   ]
  },
  {
   "cell_type": "markdown",
   "id": "1e56dc42-65fd-4d1c-8526-54ef9aa00682",
   "metadata": {},
   "source": [
    "## Under Construction"
   ]
  }
 ],
 "metadata": {
  "kernelspec": {
   "display_name": "Python 3 (ipykernel)",
   "language": "python",
   "name": "python3"
  },
  "language_info": {
   "codemirror_mode": {
    "name": "ipython",
    "version": 3
   },
   "file_extension": ".py",
   "mimetype": "text/x-python",
   "name": "python",
   "nbconvert_exporter": "python",
   "pygments_lexer": "ipython3",
   "version": "3.10.12"
  }
 },
 "nbformat": 4,
 "nbformat_minor": 5
}
